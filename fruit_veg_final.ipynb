{
 "cells": [
  {
   "attachments": {},
   "cell_type": "markdown",
   "metadata": {},
   "source": [
    "Feature 1: This is a data set I created for a fictional Fruit and Veggie sales company. They want to know their top most profitable customers and their most profitable regions. Their data is spread out between three files. In the blow code block the three files are brought into Python, the excel file is reformated to .csv and they are merged into one master file. This file is called 'comp_data.csv' and is saved in the 'final_files' folder."
   ]
  },
  {
   "cell_type": "code",
   "execution_count": 186,
   "metadata": {},
   "outputs": [],
   "source": [
    "import pandas as pd\n",
    "import numpy as np\n",
    "import matplotlib.pyplot as plt\n",
    "\n",
    "cu_data = pd.read_csv('final_files/cust_data.csv')\n",
    "or_data = pd.read_csv('final_files/order_data.csv')\n",
    "prd_data = pd.read_excel('final_files/prod_data.xlsx')\n",
    "\n",
    "cust_order_data = pd.merge(cu_data, or_data, on='customer_id', how='outer')\n",
    "\n",
    "comp_data = pd.merge(prd_data, cust_order_data, on='product_id', how='outer')\n",
    "\n",
    "comp_data.to_csv('final_files/comp_data.csv', sep=',', index=False)\n",
    "\n",
    "\n",
    "#Use the below code if you want to review the combine file. \n",
    "\n",
    "#comp_data_set = pd.read_csv('final_files/comp_data.csv')\n",
    "#print(comp_data_set.to_string())\n",
    "\n"
   ]
  },
  {
   "attachments": {},
   "cell_type": "markdown",
   "metadata": {},
   "source": [
    "Feature 2: Prior to analyzng the data it needs to be cleaned. In the below code block unwanted columns are removed, cells with NaN values are updated, and data types are corrected so figures can be correctly calulated in the late analysis."
   ]
  },
  {
   "cell_type": "code",
   "execution_count": null,
   "metadata": {},
   "outputs": [],
   "source": [
    "col_drop = pd.read_csv('final_files/comp_data.csv')\n",
    "col_drop1 = pd.DataFrame(col_drop)\n",
    "col_drop2 = col_drop1.drop(['product_type', 'years_served'], axis=1, inplace=False)\n",
    "col_org = col_drop2.sort_values(['order_date', 'order_id'], inplace=False)\n",
    "\n",
    "col_nan = col_org.fillna({'product_id':'blank','product_name':'blank', 'unit_price':'0.00', 'unit_cost':'0.00', 'order_id':'blank', 'quantity':'0.0', 'order_date':'0/00/0000', 'order_status':'blank'}, inplace=False)\n",
    "\n",
    "col_type = col_nan.astype({'unit_price':'float', 'unit_cost':'float', 'customer_id':'object', 'quantity':'float'})\n",
    "print(col_type.to_string())"
   ]
  },
  {
   "attachments": {},
   "cell_type": "markdown",
   "metadata": {},
   "source": [
    "Feature 3: The customer wants to know the top 15 customers. The coding below creates a new column called 'Profits' based off of the Unit Price, Unit Cost, and Quantity sold. The sales are then grouped by each customer and the graph shows the 15 top most profitable customers."
   ]
  },
  {
   "cell_type": "code",
   "execution_count": null,
   "metadata": {},
   "outputs": [],
   "source": [
    "col_type['profit'] = ((col_type['unit_price'] - col_type['unit_cost']) * col_type['quantity'])\n",
    "col_group = col_type.groupby(['customer_name_first'], sort=True)['profit'].sum().reset_index()\n",
    "col_group = col_group.sort_values(by = ['profit'], ascending=[False]).head(15)\n",
    "\n",
    "#print(col_group.to_string())\n",
    "\n",
    "plt.rcParams['figure.figsize'] = [10.5, 3.5]\n",
    "plt.rcParams['figure.autolayout'] = True\n",
    "plt.bar(col_group['customer_name_first'], col_group['profit'])\n",
    "\n",
    "plt.title('Profits By Customer')\n",
    "plt.xlabel('Customer')\n",
    "plt.ylabel('Profits in Dollars')\n",
    "\n",
    "plt.show\n"
   ]
  },
  {
   "attachments": {},
   "cell_type": "markdown",
   "metadata": {},
   "source": [
    "Feature 4: The customer would like to know the most profitable region of sales. The code below will generate that data and will also show a grphical display of the regions profits. As we can see the South West Region is the most profitable to date."
   ]
  },
  {
   "cell_type": "code",
   "execution_count": null,
   "metadata": {},
   "outputs": [],
   "source": [
    "col_type['profit'] = ((col_type['unit_price'] - col_type['unit_cost']) * col_type['quantity'])\n",
    "col_group = col_type.groupby(['region'], sort=True)['profit'].sum().reset_index()\n",
    "col_group = col_group.sort_values(by = ['profit'], ascending=[False]).head()\n",
    "\n",
    "region_lab = col_group['region']\n",
    "profit_tot = col_group['profit']\n",
    "plt.plot(region_lab, profit_tot)\n",
    "\n",
    "plt.title('Profits by Sales Region')\n",
    "plt.xlabel('Profits')\n",
    "plt.ylabel('Sales Regions')\n",
    "\n",
    "plt.show\n"
   ]
  }
 ],
 "metadata": {
  "kernelspec": {
   "display_name": "Python 3",
   "language": "python",
   "name": "python3"
  },
  "language_info": {
   "codemirror_mode": {
    "name": "ipython",
    "version": 3
   },
   "file_extension": ".py",
   "mimetype": "text/x-python",
   "name": "python",
   "nbconvert_exporter": "python",
   "pygments_lexer": "ipython3",
   "version": "3.8.9"
  },
  "orig_nbformat": 4
 },
 "nbformat": 4,
 "nbformat_minor": 2
}
