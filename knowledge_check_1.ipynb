{
 "cells": [
  {
   "cell_type": "code",
   "execution_count": 3,
   "metadata": {},
   "outputs": [
    {
     "name": "stdout",
     "output_type": "stream",
     "text": [
      "Hello World!!\n"
     ]
    }
   ],
   "source": [
    "#Assignment 1 - Hello World\n",
    "\n",
    "print('Hello World!!')"
   ]
  },
  {
   "cell_type": "code",
   "execution_count": 2,
   "metadata": {},
   "outputs": [
    {
     "name": "stdout",
     "output_type": "stream",
     "text": [
      "Adalyn\n"
     ]
    }
   ],
   "source": [
    "#Assignment 2 - Lists\n",
    "\n",
    "names = ['Reuben', 'Adalyn', 'Ezekiel', 'Havalah']\n",
    "\n",
    "print(names[1])"
   ]
  },
  {
   "cell_type": "code",
   "execution_count": 9,
   "metadata": {},
   "outputs": [
    {
     "name": "stdout",
     "output_type": "stream",
     "text": [
      "34\n"
     ]
    }
   ],
   "source": [
    "#Assignment 3 - Dictionary\n",
    "\n",
    "ages = {'Reuben': 35, 'Adalyn': 34}\n",
    "\n",
    "print(ages['Adalyn'])"
   ]
  },
  {
   "cell_type": "code",
   "execution_count": 10,
   "metadata": {},
   "outputs": [
    {
     "name": "stdout",
     "output_type": "stream",
     "text": [
      "Psych\n"
     ]
    }
   ],
   "source": [
    "#Assignement 4 - Tuples\n",
    "\n",
    "shows = ('The Office', 'Master Chef', 'Psych', 'Batman:The Animated Series')\n",
    "\n",
    "print(shows[2])"
   ]
  }
 ],
 "metadata": {
  "kernelspec": {
   "display_name": "Python 3",
   "language": "python",
   "name": "python3"
  },
  "language_info": {
   "codemirror_mode": {
    "name": "ipython",
    "version": 3
   },
   "file_extension": ".py",
   "mimetype": "text/x-python",
   "name": "python",
   "nbconvert_exporter": "python",
   "pygments_lexer": "ipython3",
   "version": "3.11.0"
  },
  "orig_nbformat": 4,
  "vscode": {
   "interpreter": {
    "hash": "aee8b7b246df8f9039afb4144a1f6fd8d2ca17a180786b69acc140d282b71a49"
   }
  }
 },
 "nbformat": 4,
 "nbformat_minor": 2
}
