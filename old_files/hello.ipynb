{
 "cells": [
  {
   "cell_type": "code",
   "execution_count": 1,
   "metadata": {},
   "outputs": [
    {
     "name": "stdout",
     "output_type": "stream",
     "text": [
      "   Order   name  total      paid Unnamed: 4 Unnamed: 5 Unnamed: 6\n",
      "0      1  Ethan   2.25      Paid                                 \n",
      "1      2   Mary   3.24      Paid                                 \n",
      "2      3    Tom   1.22      Paid                                 \n",
      "3      4   Seth   9.34  Not Paid                                 \n",
      "4      5   Beth  12.12  Not Paid                                 \n"
     ]
    }
   ],
   "source": [
    "import pandas as pd\n",
    "import numpy as np\n",
    "import re\n",
    "\n",
    "\n",
    "data = pd.read_csv('testing_file_1.csv', usecols=[0,1,2,3,4,5,6],\\\n",
    "    na_filter=False).head()\n",
    "    \n",
    "\n",
    "print(data)"
   ]
  },
  {
   "cell_type": "code",
   "execution_count": 2,
   "metadata": {},
   "outputs": [
    {
     "name": "stdout",
     "output_type": "stream",
     "text": [
      "     Order,name,total,paid,,,\n",
      "0        1,Ethan,2.25,Paid,,,\n",
      "1         2,Mary,3.24,Paid,,,\n",
      "2          3,Tom,1.22,Paid,,,\n",
      "3     4,Seth,9.34,Not Paid,,,\n",
      "4    5,Beth,12.12,Not Paid,,,\n",
      "5        6,sally,2.25,Paid,,,\n",
      "6        7,Susan,3.24,Paid,,,\n",
      "7     8,Bill,1.22,Not Paid,,,\n",
      "8         9,Omar,9.34,Paid,,,\n",
      "9    10,Rex,12.12,Not Paid,,,\n",
      "10    11,Balenda,2.25,Paid,,,\n",
      "11      12,Ethan,3.24,Paid,,,\n",
      "12       13,Mary,1.22,Paid,,,\n",
      "13    14,Tom,9.34,Not Paid,,,\n",
      "14  15,Seth,12.12,Not Paid,,,\n",
      "15       16,Beth,2.25,Paid,,,\n",
      "16      17,sally,3.24,Paid,,,\n",
      "17  18,Susan,1.22,Not Paid,,,\n",
      "18       19,Bill,9.34,Paid,,,\n",
      "19  20,Omar,12.12,Not Paid,,,\n"
     ]
    }
   ],
   "source": [
    "head = pd.read_table('testing_file_1.csv')\n",
    "print(head)\n"
   ]
  }
 ],
 "metadata": {
  "kernelspec": {
   "display_name": "Python 3",
   "language": "python",
   "name": "python3"
  },
  "language_info": {
   "codemirror_mode": {
    "name": "ipython",
    "version": 3
   },
   "file_extension": ".py",
   "mimetype": "text/x-python",
   "name": "python",
   "nbconvert_exporter": "python",
   "pygments_lexer": "ipython3",
   "version": "3.8.9"
  },
  "orig_nbformat": 4,
  "vscode": {
   "interpreter": {
    "hash": "31f2aee4e71d21fbe5cf8b01ff0e069b9275f58929596ceb00d14d90e3e16cd6"
   }
  }
 },
 "nbformat": 4,
 "nbformat_minor": 2
}
